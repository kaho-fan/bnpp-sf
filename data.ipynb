{
 "cells": [
  {
   "cell_type": "code",
   "id": "initial_id",
   "metadata": {
    "collapsed": true,
    "ExecuteTime": {
     "end_time": "2025-02-26T06:30:23.685802Z",
     "start_time": "2025-02-26T06:30:23.157520Z"
    }
   },
   "source": "import pandas as pd",
   "outputs": [],
   "execution_count": 1
  },
  {
   "metadata": {
    "ExecuteTime": {
     "end_time": "2025-02-26T06:30:23.700076Z",
     "start_time": "2025-02-26T06:30:23.695704Z"
    }
   },
   "cell_type": "code",
   "source": [
    "# Data provider: Refinitv\n",
    "def extract_constituent(index: str, target_date: str) -> pd.DataFrame:\n",
    "    target_date = pd.to_datetime(target_date)\n",
    "\n",
    "    adjustment = pd.read_csv(f\"data/raw/Adjustment/{index}.csv\")\n",
    "    constituent = pd.read_csv(f\"data/raw/Constituent/{index}.csv\")\n",
    "\n",
    "    adjustment[\"Date\"] = pd.to_datetime(adjustment[\"Date\"], format=\"mixed\")\n",
    "    adjustment = adjustment.sort_values(\"Date\", ascending=False)\n",
    "\n",
    "    # Populate the point-in-time constituent list\n",
    "    for _, row in adjustment.iterrows():\n",
    "        if row[\"Date\"] <= target_date:\n",
    "            break\n",
    "\n",
    "        match row[\"Adjustment\"]:\n",
    "            case \"+\":\n",
    "                constituent = constituent[constituent[\"ISIN\"] != row[\"ISIN\"]].reset_index(drop=True)\n",
    "\n",
    "            case \"-\":\n",
    "                constituent.loc[len(constituent), [\"Company\", \"ISIN\"]] = [row[\"Company\"], row[\"ISIN\"]]\n",
    "\n",
    "    constituent.insert(0, \"Date\", target_date)\n",
    "\n",
    "    return constituent"
   ],
   "id": "3414eb1b019f04bf",
   "outputs": [],
   "execution_count": 2
  },
  {
   "metadata": {
    "ExecuteTime": {
     "end_time": "2025-02-25T17:42:29.156023Z",
     "start_time": "2025-02-25T17:41:42.730300Z"
    }
   },
   "cell_type": "code",
   "source": [
    "# Data provider: US Treasury Department\n",
    "rf = pd.concat(\n",
    "    [\n",
    "        pd.read_csv(f\"data/raw/Risk-free rate/{i}.csv\", parse_dates=[\"Date\"])\n",
    "        for i in range(2020, 2024 + 1)\n",
    "    ]\n",
    ").set_index(\"Date\").groupby(pd.Grouper(freq=\"ME\")).tail(1).reset_index()\n",
    "\n",
    "# Generate the universe by the selected representative indexes\n",
    "for i in [\"CSI300\", \"HSI\", \"SP500\", \"SXXP\", \"TOPIX\"]:\n",
    "    df = []\n",
    "\n",
    "    for j in pd.date_range(\"2020-01-01\", periods=60, freq=\"BME\"):\n",
    "        # BME to actual trading days hotfix#1\n",
    "        if j == pd.Timestamp(\"2021-05-31\"):\n",
    "            j = pd.Timestamp(\"2021-05-28\")\n",
    "\n",
    "        # BME to actual trading days hotfix#2\n",
    "        elif j == pd.Timestamp(\"2024-03-29\"):\n",
    "            j = pd.Timestamp(\"2024-03-28\")\n",
    "\n",
    "        df.append(extract_constituent(i, j))\n",
    "\n",
    "    pd.concat(df).merge(rf, on=\"Date\", how=\"left\").to_csv(f\"data/{i}.csv\", index=False)"
   ],
   "id": "ad58ea4fdb28e167",
   "outputs": [],
   "execution_count": 71
  },
  {
   "metadata": {},
   "cell_type": "code",
   "outputs": [],
   "execution_count": null,
   "source": [
    "# Map the book-to-market ratio\n",
    "# ..."
   ],
   "id": "5fc1bb6b12c54b99"
  },
  {
   "metadata": {
    "ExecuteTime": {
     "end_time": "2025-02-19T12:32:02.653407Z",
     "start_time": "2025-02-19T12:32:02.647575Z"
    }
   },
   "cell_type": "code",
   "source": [
    "# https://docfinder.bnpparibas-am.com/api/files/2ae286f3-f2f9-4b39-b416-473360e0c9a7/512\n",
    "# In standard of BNP Paribas, the time horizon backtested is 5 years\n",
    "#\n",
    "# 1. Metrics\n",
    "# 2. Skewness test\n",
    "# 3. Monte-carlo simulation\n",
    "# 4. EFficient frontier"
   ],
   "id": "31415198818207c6",
   "outputs": [],
   "execution_count": 209
  }
 ],
 "metadata": {
  "kernelspec": {
   "display_name": "Python 3",
   "language": "python",
   "name": "python3"
  },
  "language_info": {
   "codemirror_mode": {
    "name": "ipython",
    "version": 2
   },
   "file_extension": ".py",
   "mimetype": "text/x-python",
   "name": "python",
   "nbconvert_exporter": "python",
   "pygments_lexer": "ipython2",
   "version": "2.7.6"
  }
 },
 "nbformat": 4,
 "nbformat_minor": 5
}
